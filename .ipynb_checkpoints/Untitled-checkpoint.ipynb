{
 "cells": [
  {
   "cell_type": "code",
   "execution_count": 1,
   "metadata": {},
   "outputs": [],
   "source": [
    "import pandas as pd\n",
    "import numpy as np"
   ]
  },
  {
   "cell_type": "code",
   "execution_count": 2,
   "metadata": {},
   "outputs": [],
   "source": [
    "def ndfl(way):\n",
    "    ndfl = pd.read_excel(way)\n",
    "    ndfl.drop([0,1,2,3,4,5],inplace=True)\n",
    "    ndfl.dropna(axis=0, how = 'all', inplace=True)\n",
    "    ndfl.drop(ndfl[ndfl['Ставка налога'] == 'Итого'].index, inplace=True)\n",
    "    ndfl.drop(ndfl[ndfl['Ставка налога'] == 'Код дохода'].index, inplace=True)\n",
    "    ndfl.drop(ndfl[ndfl['Ставка налога'] == 'Сотрудник'].index, inplace=True)\n",
    "    ndfl.drop(ndfl[ndfl['Unnamed: 2'] == 'Сумма дохода'].index, inplace=True)\n",
    "    ndfl = ndfl.iloc[:, [0,2]]\n",
    "    ndfl.columns = ['фио', 'зп_ндфл']\n",
    "    ndfl = ndfl.round(2)\n",
    "    return ndfl\n",
    "\n",
    "def ndfl_processing(way_list):\n",
    "    ndfl_1 = ndfl(way_list[0])\n",
    "    ndfl_2 = ndfl(way_list[1])\n",
    "    try:\n",
    "        ndfl_3 = ndfl(way_list[2])\n",
    "        ndfl_4 = ndfl(way_list[3])\n",
    "        mix = pd.concat([ndfl_1, ndfl_2], ignore_index = True)\n",
    "        mix = pd.concat([mix, ndfl_3], ignore_index = True)\n",
    "        mix = pd.concat([mix, ndfl_4], ignore_index = True)\n",
    "    except:\n",
    "        print('НДФЛ-3 или НДФЛ-4 отсутствует!')\n",
    "        mix = pd.concat([ndfl_1, ndfl_2], ignore_index = True)\n",
    "    mix = mix.groupby(['фио']).sum()\n",
    "    mix = mix.reset_index()\n",
    "    return mix\n",
    "\n",
    "# ===============================================================================\n",
    "\n",
    "def rsv(way):\n",
    "    rsv = pd.read_excel(way)\n",
    "    rsv.drop([0,1,2,3],inplace=True)\n",
    "    rsv.drop(rsv[rsv['Unnamed: 0'] == 'Итого'].index, inplace=True)\n",
    "    rsv = rsv.iloc[:, [0,3]]\n",
    "    rsv.columns = ['фио', 'зп_рсв']\n",
    "    rsv = rsv.round(2)\n",
    "    return rsv\n",
    "\n",
    "def rsv_processing(way_list):\n",
    "    rsv_1 = rsv(way_list[0])\n",
    "    rsv_2 = rsv(way_list[1])\n",
    "    mix_rsv = pd.concat([rsv_1, rsv_2], ignore_index = True)\n",
    "    mix_rsv = mix_rsv.groupby('фио').sum()\n",
    "    mix_rsv = mix_rsv.reset_index()\n",
    "    return mix_rsv\n",
    "\n",
    "# ===============================================================================\n",
    "\n",
    "def mix_table(way_list_ndfl, way_list_rsv):\n",
    "    table_1 = ndfl_processing(way_list_ndfl)\n",
    "    table_2 = rsv_processing(way_list_rsv)\n",
    "    tables = table_1.merge(table_2, left_on = 'фио', right_on = 'фио', how = 'outer')\n",
    "    tables = tables.fillna(0)\n",
    "    tables['разница'] = (tables['зп_ндфл'] - tables['зп_рсв']).round()\n",
    "    tables.drop(tables[tables['разница'] == 0].index, inplace=True)\n",
    "    tables = tables.reset_index(drop = True)\n",
    "    #tables.to_excel(way_out)\n",
    "    return tables"
   ]
  },
  {
   "cell_type": "code",
   "execution_count": 3,
   "metadata": {},
   "outputs": [],
   "source": [
    "a = ['file/Интехстрой/НДФЛ1.xls','file/Интехстрой/НДФЛ2.xls','file/Интехстрой/НДФЛ3.xls','file/Интехстрой/НДФЛ4.xls']\n",
    "b = ['file/Интехстрой/РСВ1.xls','file/Интехстрой/РСВ2.xls']"
   ]
  },
  {
   "cell_type": "code",
   "execution_count": 4,
   "metadata": {},
   "outputs": [],
   "source": [
    "mix_table(a, b).to_excel('результат Интехстрой.xls')"
   ]
  },
  {
   "cell_type": "code",
   "execution_count": null,
   "metadata": {},
   "outputs": [],
   "source": []
  }
 ],
 "metadata": {
  "kernelspec": {
   "display_name": "Python 3",
   "language": "python",
   "name": "python3"
  },
  "language_info": {
   "codemirror_mode": {
    "name": "ipython",
    "version": 3
   },
   "file_extension": ".py",
   "mimetype": "text/x-python",
   "name": "python",
   "nbconvert_exporter": "python",
   "pygments_lexer": "ipython3",
   "version": "3.7.4"
  }
 },
 "nbformat": 4,
 "nbformat_minor": 2
}
